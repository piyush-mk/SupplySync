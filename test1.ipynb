{
 "cells": [
  {
   "cell_type": "code",
   "execution_count": 2,
   "metadata": {},
   "outputs": [],
   "source": [
    "import numpy as np\n",
    "import pandas as pd"
   ]
  },
  {
   "cell_type": "code",
   "execution_count": 48,
   "metadata": {},
   "outputs": [
    {
     "data": {
      "text/html": [
       "<div>\n",
       "<style scoped>\n",
       "    .dataframe tbody tr th:only-of-type {\n",
       "        vertical-align: middle;\n",
       "    }\n",
       "\n",
       "    .dataframe tbody tr th {\n",
       "        vertical-align: top;\n",
       "    }\n",
       "\n",
       "    .dataframe thead th {\n",
       "        text-align: right;\n",
       "    }\n",
       "</style>\n",
       "<table border=\"1\" class=\"dataframe\">\n",
       "  <thead>\n",
       "    <tr style=\"text-align: right;\">\n",
       "      <th></th>\n",
       "      <th>latitude</th>\n",
       "      <th>longitude</th>\n",
       "      <th>price</th>\n",
       "      <th>area</th>\n",
       "      <th>potential_for_expansion</th>\n",
       "      <th>earthquake_likelihood</th>\n",
       "      <th>flood_likelihood</th>\n",
       "    </tr>\n",
       "  </thead>\n",
       "  <tbody>\n",
       "    <tr>\n",
       "      <th>0</th>\n",
       "      <td>19.0760</td>\n",
       "      <td>72.8777</td>\n",
       "      <td>2500000</td>\n",
       "      <td>1200</td>\n",
       "      <td>High</td>\n",
       "      <td>Low</td>\n",
       "      <td>Medium</td>\n",
       "    </tr>\n",
       "    <tr>\n",
       "      <th>1</th>\n",
       "      <td>28.6139</td>\n",
       "      <td>77.2090</td>\n",
       "      <td>5000000</td>\n",
       "      <td>1500</td>\n",
       "      <td>Low</td>\n",
       "      <td>High</td>\n",
       "      <td>Low</td>\n",
       "    </tr>\n",
       "    <tr>\n",
       "      <th>2</th>\n",
       "      <td>12.9716</td>\n",
       "      <td>77.5946</td>\n",
       "      <td>1800000</td>\n",
       "      <td>900</td>\n",
       "      <td>Medium</td>\n",
       "      <td>Medium</td>\n",
       "      <td>High</td>\n",
       "    </tr>\n",
       "    <tr>\n",
       "      <th>3</th>\n",
       "      <td>22.5726</td>\n",
       "      <td>88.3639</td>\n",
       "      <td>3200000</td>\n",
       "      <td>1800</td>\n",
       "      <td>Low</td>\n",
       "      <td>Low</td>\n",
       "      <td>Low</td>\n",
       "    </tr>\n",
       "    <tr>\n",
       "      <th>4</th>\n",
       "      <td>13.0827</td>\n",
       "      <td>80.2707</td>\n",
       "      <td>4200000</td>\n",
       "      <td>2000</td>\n",
       "      <td>High</td>\n",
       "      <td>Low</td>\n",
       "      <td>Medium</td>\n",
       "    </tr>\n",
       "  </tbody>\n",
       "</table>\n",
       "</div>"
      ],
      "text/plain": [
       "   latitude  longitude    price  area potential_for_expansion   \n",
       "0   19.0760    72.8777  2500000  1200                    High  \\\n",
       "1   28.6139    77.2090  5000000  1500                     Low   \n",
       "2   12.9716    77.5946  1800000   900                  Medium   \n",
       "3   22.5726    88.3639  3200000  1800                     Low   \n",
       "4   13.0827    80.2707  4200000  2000                    High   \n",
       "\n",
       "  earthquake_likelihood flood_likelihood  \n",
       "0                   Low           Medium  \n",
       "1                  High              Low  \n",
       "2                Medium             High  \n",
       "3                   Low              Low  \n",
       "4                   Low           Medium  "
      ]
     },
     "execution_count": 48,
     "metadata": {},
     "output_type": "execute_result"
    }
   ],
   "source": [
    "df=pd.read_csv('gptdata1.csv')\n",
    "df.head()"
   ]
  },
  {
   "cell_type": "code",
   "execution_count": 49,
   "metadata": {},
   "outputs": [
    {
     "name": "stdout",
     "output_type": "stream",
     "text": [
      "Dataset No. of Rows:  759\n"
     ]
    }
   ],
   "source": [
    "#dataset size\n",
    "print(\"Dataset No. of Rows: \", df.shape[0])"
   ]
  },
  {
   "cell_type": "code",
   "execution_count": 50,
   "metadata": {},
   "outputs": [],
   "source": [
    " #keep only the columns with unique latitude and longitude values\n",
    "df = df.drop_duplicates(subset=['latitude', 'longitude'], keep='first')"
   ]
  },
  {
   "cell_type": "code",
   "execution_count": 51,
   "metadata": {},
   "outputs": [
    {
     "data": {
      "text/html": [
       "<div>\n",
       "<style scoped>\n",
       "    .dataframe tbody tr th:only-of-type {\n",
       "        vertical-align: middle;\n",
       "    }\n",
       "\n",
       "    .dataframe tbody tr th {\n",
       "        vertical-align: top;\n",
       "    }\n",
       "\n",
       "    .dataframe thead th {\n",
       "        text-align: right;\n",
       "    }\n",
       "</style>\n",
       "<table border=\"1\" class=\"dataframe\">\n",
       "  <thead>\n",
       "    <tr style=\"text-align: right;\">\n",
       "      <th></th>\n",
       "      <th>latitude</th>\n",
       "      <th>longitude</th>\n",
       "      <th>price</th>\n",
       "      <th>area</th>\n",
       "      <th>potential_for_expansion</th>\n",
       "      <th>earthquake_likelihood</th>\n",
       "      <th>flood_likelihood</th>\n",
       "    </tr>\n",
       "  </thead>\n",
       "  <tbody>\n",
       "    <tr>\n",
       "      <th>0</th>\n",
       "      <td>19.0760</td>\n",
       "      <td>72.8777</td>\n",
       "      <td>2500000</td>\n",
       "      <td>1200</td>\n",
       "      <td>High</td>\n",
       "      <td>Low</td>\n",
       "      <td>Medium</td>\n",
       "    </tr>\n",
       "    <tr>\n",
       "      <th>1</th>\n",
       "      <td>28.6139</td>\n",
       "      <td>77.2090</td>\n",
       "      <td>5000000</td>\n",
       "      <td>1500</td>\n",
       "      <td>Low</td>\n",
       "      <td>High</td>\n",
       "      <td>Low</td>\n",
       "    </tr>\n",
       "    <tr>\n",
       "      <th>2</th>\n",
       "      <td>12.9716</td>\n",
       "      <td>77.5946</td>\n",
       "      <td>1800000</td>\n",
       "      <td>900</td>\n",
       "      <td>Medium</td>\n",
       "      <td>Medium</td>\n",
       "      <td>High</td>\n",
       "    </tr>\n",
       "    <tr>\n",
       "      <th>3</th>\n",
       "      <td>22.5726</td>\n",
       "      <td>88.3639</td>\n",
       "      <td>3200000</td>\n",
       "      <td>1800</td>\n",
       "      <td>Low</td>\n",
       "      <td>Low</td>\n",
       "      <td>Low</td>\n",
       "    </tr>\n",
       "    <tr>\n",
       "      <th>4</th>\n",
       "      <td>13.0827</td>\n",
       "      <td>80.2707</td>\n",
       "      <td>4200000</td>\n",
       "      <td>2000</td>\n",
       "      <td>High</td>\n",
       "      <td>Low</td>\n",
       "      <td>Medium</td>\n",
       "    </tr>\n",
       "  </tbody>\n",
       "</table>\n",
       "</div>"
      ],
      "text/plain": [
       "   latitude  longitude    price  area potential_for_expansion   \n",
       "0   19.0760    72.8777  2500000  1200                    High  \\\n",
       "1   28.6139    77.2090  5000000  1500                     Low   \n",
       "2   12.9716    77.5946  1800000   900                  Medium   \n",
       "3   22.5726    88.3639  3200000  1800                     Low   \n",
       "4   13.0827    80.2707  4200000  2000                    High   \n",
       "\n",
       "  earthquake_likelihood flood_likelihood  \n",
       "0                   Low           Medium  \n",
       "1                  High              Low  \n",
       "2                Medium             High  \n",
       "3                   Low              Low  \n",
       "4                   Low           Medium  "
      ]
     },
     "execution_count": 51,
     "metadata": {},
     "output_type": "execute_result"
    }
   ],
   "source": [
    "df.head()"
   ]
  },
  {
   "cell_type": "code",
   "execution_count": 52,
   "metadata": {},
   "outputs": [],
   "source": [
    "df.to_csv('test.csv', index=False)"
   ]
  },
  {
   "cell_type": "code",
   "execution_count": 53,
   "metadata": {},
   "outputs": [
    {
     "data": {
      "text/plain": [
       "0      19.0760\n",
       "1      28.6139\n",
       "2      12.9716\n",
       "3      22.5726\n",
       "4      13.0827\n",
       "5      18.5204\n",
       "6      17.3850\n",
       "7      19.2183\n",
       "8      25.2769\n",
       "11     12.9369\n",
       "99     19.8762\n",
       "100    23.2599\n",
       "101    27.1767\n",
       "102    20.9517\n",
       "103    17.6868\n",
       "104    21.1702\n",
       "105    26.9124\n",
       "106    30.9000\n",
       "107    34.0836\n",
       "108    26.8467\n",
       "118    21.1458\n",
       "119    16.5062\n",
       "120    18.1124\n",
       "121    20.3992\n",
       "122    14.4577\n",
       "123    22.2563\n",
       "124    21.2951\n",
       "125    29.0588\n",
       "126    33.7782\n",
       "127    30.3155\n",
       "128    32.7266\n",
       "129    30.1445\n",
       "130    14.2350\n",
       "131    25.2138\n",
       "132    22.6006\n",
       "133    16.7754\n",
       "134    28.6538\n",
       "135    22.2587\n",
       "136    28.7041\n",
       "137    21.3069\n",
       "138    22.5806\n",
       "169    12.5564\n",
       "170    22.7196\n",
       "181    28.6423\n",
       "182    17.9158\n",
       "191    13.9790\n",
       "192    19.1515\n",
       "Name: latitude, dtype: float64"
      ]
     },
     "execution_count": 53,
     "metadata": {},
     "output_type": "execute_result"
    }
   ],
   "source": [
    "df['latitude']"
   ]
  },
  {
   "cell_type": "code",
   "execution_count": 54,
   "metadata": {},
   "outputs": [
    {
     "data": {
      "text/plain": [
       "(21.3069, 77.2355)"
      ]
     },
     "execution_count": 54,
     "metadata": {},
     "output_type": "execute_result"
    }
   ],
   "source": [
    "#median of latitude and longitude from the data after converting them to float and removing the outliers\n",
    "\n",
    "df['latitude'] = df['latitude'].replace(0, np.nan)\n",
    "df['longitude'] = df['longitude'].replace(0, np.nan)\n",
    "df['latitude'] = df['latitude'].fillna(df['latitude'].median())\n",
    "df['longitude'] = df['longitude'].fillna(df['longitude'].median())\n",
    "df['latitude'].median(), df['longitude'].median()"
   ]
  },
  {
   "cell_type": "code",
   "execution_count": 56,
   "metadata": {},
   "outputs": [
    {
     "name": "stderr",
     "output_type": "stream",
     "text": [
      "c:\\Users\\Piyush\\anaconda3\\envs\\flasknew\\lib\\site-packages\\pandas\\plotting\\_matplotlib\\core.py:1256: UserWarning: No data for colormapping provided via 'c'. Parameters 'cmap' will be ignored\n",
      "  scatter = ax.scatter(\n"
     ]
    },
    {
     "data": {
      "text/plain": [
       "<AxesSubplot: xlabel='longitude', ylabel='latitude'>"
      ]
     },
     "execution_count": 56,
     "metadata": {},
     "output_type": "execute_result"
    },
    {
     "data": {
      "image/png": "[encoded data removed]",
      "text/plain": [
       "<Figure size 640x480 with 2 Axes>"
      ]
     },
     "metadata": {},
     "output_type": "display_data"
    }
   ],
   "source": [
    "# clusteer of where do most of the latitdes and longitudes belong to\n",
    "import matplotlib.pyplot as plt\n",
    "df.plot(kind='scatter', x='longitude', y='latitude', alpha=0.4, cmap=plt.get_cmap('jet'), colorbar=True)"
   ]
  },
  {
   "cell_type": "code",
   "execution_count": 57,
   "metadata": {},
   "outputs": [
    {
     "data": {
      "text/plain": [
       "5000000"
      ]
     },
     "execution_count": 57,
     "metadata": {},
     "output_type": "execute_result"
    }
   ],
   "source": [
    "#highest value in price column\n",
    "df['price'].max()"
   ]
  },
  {
   "cell_type": "code",
   "execution_count": null,
   "metadata": {},
   "outputs": [],
   "source": []
  }
 ],
 "metadata": {
  "kernelspec": {
   "display_name": "flasknew",
   "language": "python",
   "name": "python3"
  },
  "language_info": {
   "codemirror_mode": {
    "name": "ipython",
    "version": 3
   },
   "file_extension": ".py",
   "mimetype": "text/x-python",
   "name": "python",
   "nbconvert_exporter": "python",
   "pygments_lexer": "ipython3",
   "version": "3.10.11"
  },
  "orig_nbformat": 4
 },
 "nbformat": 4,
 "nbformat_minor": 2
}
